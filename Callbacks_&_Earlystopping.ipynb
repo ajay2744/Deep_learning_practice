{
  "nbformat": 4,
  "nbformat_minor": 0,
  "metadata": {
    "colab": {
      "provenance": []
    },
    "kernelspec": {
      "name": "python3",
      "display_name": "Python 3"
    },
    "language_info": {
      "name": "python"
    }
  },
  "cells": [
    {
      "cell_type": "code",
      "execution_count": 7,
      "metadata": {
        "id": "6DkU8f0XkF7q"
      },
      "outputs": [],
      "source": [
        "import pandas as pd"
      ]
    },
    {
      "cell_type": "code",
      "source": [
        "df=pd.read_csv('/content/Social_Network_Ads.csv')"
      ],
      "metadata": {
        "id": "B94jevqFk9nB"
      },
      "execution_count": 2,
      "outputs": []
    },
    {
      "cell_type": "code",
      "source": [
        "df.head()"
      ],
      "metadata": {
        "colab": {
          "base_uri": "https://localhost:8080/",
          "height": 226
        },
        "id": "EUDv3bZNlDgy",
        "outputId": "0fa3c1e4-e023-4df7-a72f-3c1f3a7f70e9"
      },
      "execution_count": 3,
      "outputs": [
        {
          "output_type": "execute_result",
          "data": {
            "text/plain": [
              "    User ID  Gender  Age  EstimatedSalary  Purchased\n",
              "0  15624510    Male   19            19000          0\n",
              "1  15810944    Male   35            20000          0\n",
              "2  15668575  Female   26            43000          0\n",
              "3  15603246  Female   27            57000          0\n",
              "4  15804002    Male   19            76000          0"
            ],
            "text/html": [
              "\n",
              "  <div id=\"df-585e3816-c9dc-43f9-a054-35ddd862ef14\" class=\"colab-df-container\">\n",
              "    <div>\n",
              "<style scoped>\n",
              "    .dataframe tbody tr th:only-of-type {\n",
              "        vertical-align: middle;\n",
              "    }\n",
              "\n",
              "    .dataframe tbody tr th {\n",
              "        vertical-align: top;\n",
              "    }\n",
              "\n",
              "    .dataframe thead th {\n",
              "        text-align: right;\n",
              "    }\n",
              "</style>\n",
              "<table border=\"1\" class=\"dataframe\">\n",
              "  <thead>\n",
              "    <tr style=\"text-align: right;\">\n",
              "      <th></th>\n",
              "      <th>User ID</th>\n",
              "      <th>Gender</th>\n",
              "      <th>Age</th>\n",
              "      <th>EstimatedSalary</th>\n",
              "      <th>Purchased</th>\n",
              "    </tr>\n",
              "  </thead>\n",
              "  <tbody>\n",
              "    <tr>\n",
              "      <th>0</th>\n",
              "      <td>15624510</td>\n",
              "      <td>Male</td>\n",
              "      <td>19</td>\n",
              "      <td>19000</td>\n",
              "      <td>0</td>\n",
              "    </tr>\n",
              "    <tr>\n",
              "      <th>1</th>\n",
              "      <td>15810944</td>\n",
              "      <td>Male</td>\n",
              "      <td>35</td>\n",
              "      <td>20000</td>\n",
              "      <td>0</td>\n",
              "    </tr>\n",
              "    <tr>\n",
              "      <th>2</th>\n",
              "      <td>15668575</td>\n",
              "      <td>Female</td>\n",
              "      <td>26</td>\n",
              "      <td>43000</td>\n",
              "      <td>0</td>\n",
              "    </tr>\n",
              "    <tr>\n",
              "      <th>3</th>\n",
              "      <td>15603246</td>\n",
              "      <td>Female</td>\n",
              "      <td>27</td>\n",
              "      <td>57000</td>\n",
              "      <td>0</td>\n",
              "    </tr>\n",
              "    <tr>\n",
              "      <th>4</th>\n",
              "      <td>15804002</td>\n",
              "      <td>Male</td>\n",
              "      <td>19</td>\n",
              "      <td>76000</td>\n",
              "      <td>0</td>\n",
              "    </tr>\n",
              "  </tbody>\n",
              "</table>\n",
              "</div>\n",
              "    <div class=\"colab-df-buttons\">\n",
              "\n",
              "  <div class=\"colab-df-container\">\n",
              "    <button class=\"colab-df-convert\" onclick=\"convertToInteractive('df-585e3816-c9dc-43f9-a054-35ddd862ef14')\"\n",
              "            title=\"Convert this dataframe to an interactive table.\"\n",
              "            style=\"display:none;\">\n",
              "\n",
              "  <svg xmlns=\"http://www.w3.org/2000/svg\" height=\"24px\" viewBox=\"0 -960 960 960\">\n",
              "    <path d=\"M120-120v-720h720v720H120Zm60-500h600v-160H180v160Zm220 220h160v-160H400v160Zm0 220h160v-160H400v160ZM180-400h160v-160H180v160Zm440 0h160v-160H620v160ZM180-180h160v-160H180v160Zm440 0h160v-160H620v160Z\"/>\n",
              "  </svg>\n",
              "    </button>\n",
              "\n",
              "  <style>\n",
              "    .colab-df-container {\n",
              "      display:flex;\n",
              "      gap: 12px;\n",
              "    }\n",
              "\n",
              "    .colab-df-convert {\n",
              "      background-color: #E8F0FE;\n",
              "      border: none;\n",
              "      border-radius: 50%;\n",
              "      cursor: pointer;\n",
              "      display: none;\n",
              "      fill: #1967D2;\n",
              "      height: 32px;\n",
              "      padding: 0 0 0 0;\n",
              "      width: 32px;\n",
              "    }\n",
              "\n",
              "    .colab-df-convert:hover {\n",
              "      background-color: #E2EBFA;\n",
              "      box-shadow: 0px 1px 2px rgba(60, 64, 67, 0.3), 0px 1px 3px 1px rgba(60, 64, 67, 0.15);\n",
              "      fill: #174EA6;\n",
              "    }\n",
              "\n",
              "    .colab-df-buttons div {\n",
              "      margin-bottom: 4px;\n",
              "    }\n",
              "\n",
              "    [theme=dark] .colab-df-convert {\n",
              "      background-color: #3B4455;\n",
              "      fill: #D2E3FC;\n",
              "    }\n",
              "\n",
              "    [theme=dark] .colab-df-convert:hover {\n",
              "      background-color: #434B5C;\n",
              "      box-shadow: 0px 1px 3px 1px rgba(0, 0, 0, 0.15);\n",
              "      filter: drop-shadow(0px 1px 2px rgba(0, 0, 0, 0.3));\n",
              "      fill: #FFFFFF;\n",
              "    }\n",
              "  </style>\n",
              "\n",
              "    <script>\n",
              "      const buttonEl =\n",
              "        document.querySelector('#df-585e3816-c9dc-43f9-a054-35ddd862ef14 button.colab-df-convert');\n",
              "      buttonEl.style.display =\n",
              "        google.colab.kernel.accessAllowed ? 'block' : 'none';\n",
              "\n",
              "      async function convertToInteractive(key) {\n",
              "        const element = document.querySelector('#df-585e3816-c9dc-43f9-a054-35ddd862ef14');\n",
              "        const dataTable =\n",
              "          await google.colab.kernel.invokeFunction('convertToInteractive',\n",
              "                                                    [key], {});\n",
              "        if (!dataTable) return;\n",
              "\n",
              "        const docLinkHtml = 'Like what you see? Visit the ' +\n",
              "          '<a target=\"_blank\" href=https://colab.research.google.com/notebooks/data_table.ipynb>data table notebook</a>'\n",
              "          + ' to learn more about interactive tables.';\n",
              "        element.innerHTML = '';\n",
              "        dataTable['output_type'] = 'display_data';\n",
              "        await google.colab.output.renderOutput(dataTable, element);\n",
              "        const docLink = document.createElement('div');\n",
              "        docLink.innerHTML = docLinkHtml;\n",
              "        element.appendChild(docLink);\n",
              "      }\n",
              "    </script>\n",
              "  </div>\n",
              "\n",
              "\n",
              "<div id=\"df-b866f180-2f92-472d-a571-d3d53fba10cb\">\n",
              "  <button class=\"colab-df-quickchart\" onclick=\"quickchart('df-b866f180-2f92-472d-a571-d3d53fba10cb')\"\n",
              "            title=\"Suggest charts\"\n",
              "            style=\"display:none;\">\n",
              "\n",
              "<svg xmlns=\"http://www.w3.org/2000/svg\" height=\"24px\"viewBox=\"0 0 24 24\"\n",
              "     width=\"24px\">\n",
              "    <g>\n",
              "        <path d=\"M19 3H5c-1.1 0-2 .9-2 2v14c0 1.1.9 2 2 2h14c1.1 0 2-.9 2-2V5c0-1.1-.9-2-2-2zM9 17H7v-7h2v7zm4 0h-2V7h2v10zm4 0h-2v-4h2v4z\"/>\n",
              "    </g>\n",
              "</svg>\n",
              "  </button>\n",
              "\n",
              "<style>\n",
              "  .colab-df-quickchart {\n",
              "      --bg-color: #E8F0FE;\n",
              "      --fill-color: #1967D2;\n",
              "      --hover-bg-color: #E2EBFA;\n",
              "      --hover-fill-color: #174EA6;\n",
              "      --disabled-fill-color: #AAA;\n",
              "      --disabled-bg-color: #DDD;\n",
              "  }\n",
              "\n",
              "  [theme=dark] .colab-df-quickchart {\n",
              "      --bg-color: #3B4455;\n",
              "      --fill-color: #D2E3FC;\n",
              "      --hover-bg-color: #434B5C;\n",
              "      --hover-fill-color: #FFFFFF;\n",
              "      --disabled-bg-color: #3B4455;\n",
              "      --disabled-fill-color: #666;\n",
              "  }\n",
              "\n",
              "  .colab-df-quickchart {\n",
              "    background-color: var(--bg-color);\n",
              "    border: none;\n",
              "    border-radius: 50%;\n",
              "    cursor: pointer;\n",
              "    display: none;\n",
              "    fill: var(--fill-color);\n",
              "    height: 32px;\n",
              "    padding: 0;\n",
              "    width: 32px;\n",
              "  }\n",
              "\n",
              "  .colab-df-quickchart:hover {\n",
              "    background-color: var(--hover-bg-color);\n",
              "    box-shadow: 0 1px 2px rgba(60, 64, 67, 0.3), 0 1px 3px 1px rgba(60, 64, 67, 0.15);\n",
              "    fill: var(--button-hover-fill-color);\n",
              "  }\n",
              "\n",
              "  .colab-df-quickchart-complete:disabled,\n",
              "  .colab-df-quickchart-complete:disabled:hover {\n",
              "    background-color: var(--disabled-bg-color);\n",
              "    fill: var(--disabled-fill-color);\n",
              "    box-shadow: none;\n",
              "  }\n",
              "\n",
              "  .colab-df-spinner {\n",
              "    border: 2px solid var(--fill-color);\n",
              "    border-color: transparent;\n",
              "    border-bottom-color: var(--fill-color);\n",
              "    animation:\n",
              "      spin 1s steps(1) infinite;\n",
              "  }\n",
              "\n",
              "  @keyframes spin {\n",
              "    0% {\n",
              "      border-color: transparent;\n",
              "      border-bottom-color: var(--fill-color);\n",
              "      border-left-color: var(--fill-color);\n",
              "    }\n",
              "    20% {\n",
              "      border-color: transparent;\n",
              "      border-left-color: var(--fill-color);\n",
              "      border-top-color: var(--fill-color);\n",
              "    }\n",
              "    30% {\n",
              "      border-color: transparent;\n",
              "      border-left-color: var(--fill-color);\n",
              "      border-top-color: var(--fill-color);\n",
              "      border-right-color: var(--fill-color);\n",
              "    }\n",
              "    40% {\n",
              "      border-color: transparent;\n",
              "      border-right-color: var(--fill-color);\n",
              "      border-top-color: var(--fill-color);\n",
              "    }\n",
              "    60% {\n",
              "      border-color: transparent;\n",
              "      border-right-color: var(--fill-color);\n",
              "    }\n",
              "    80% {\n",
              "      border-color: transparent;\n",
              "      border-right-color: var(--fill-color);\n",
              "      border-bottom-color: var(--fill-color);\n",
              "    }\n",
              "    90% {\n",
              "      border-color: transparent;\n",
              "      border-bottom-color: var(--fill-color);\n",
              "    }\n",
              "  }\n",
              "</style>\n",
              "\n",
              "  <script>\n",
              "    async function quickchart(key) {\n",
              "      const quickchartButtonEl =\n",
              "        document.querySelector('#' + key + ' button');\n",
              "      quickchartButtonEl.disabled = true;  // To prevent multiple clicks.\n",
              "      quickchartButtonEl.classList.add('colab-df-spinner');\n",
              "      try {\n",
              "        const charts = await google.colab.kernel.invokeFunction(\n",
              "            'suggestCharts', [key], {});\n",
              "      } catch (error) {\n",
              "        console.error('Error during call to suggestCharts:', error);\n",
              "      }\n",
              "      quickchartButtonEl.classList.remove('colab-df-spinner');\n",
              "      quickchartButtonEl.classList.add('colab-df-quickchart-complete');\n",
              "    }\n",
              "    (() => {\n",
              "      let quickchartButtonEl =\n",
              "        document.querySelector('#df-b866f180-2f92-472d-a571-d3d53fba10cb button');\n",
              "      quickchartButtonEl.style.display =\n",
              "        google.colab.kernel.accessAllowed ? 'block' : 'none';\n",
              "    })();\n",
              "  </script>\n",
              "</div>\n",
              "\n",
              "    </div>\n",
              "  </div>\n"
            ],
            "application/vnd.google.colaboratory.intrinsic+json": {
              "type": "dataframe",
              "variable_name": "df",
              "summary": "{\n  \"name\": \"df\",\n  \"rows\": 400,\n  \"fields\": [\n    {\n      \"column\": \"User ID\",\n      \"properties\": {\n        \"dtype\": \"number\",\n        \"std\": 71658,\n        \"min\": 15566689,\n        \"max\": 15815236,\n        \"num_unique_values\": 400,\n        \"samples\": [\n          15697424,\n          15609669,\n          15776733\n        ],\n        \"semantic_type\": \"\",\n        \"description\": \"\"\n      }\n    },\n    {\n      \"column\": \"Gender\",\n      \"properties\": {\n        \"dtype\": \"category\",\n        \"num_unique_values\": 2,\n        \"samples\": [\n          \"Female\",\n          \"Male\"\n        ],\n        \"semantic_type\": \"\",\n        \"description\": \"\"\n      }\n    },\n    {\n      \"column\": \"Age\",\n      \"properties\": {\n        \"dtype\": \"number\",\n        \"std\": 10,\n        \"min\": 18,\n        \"max\": 60,\n        \"num_unique_values\": 43,\n        \"samples\": [\n          50,\n          39\n        ],\n        \"semantic_type\": \"\",\n        \"description\": \"\"\n      }\n    },\n    {\n      \"column\": \"EstimatedSalary\",\n      \"properties\": {\n        \"dtype\": \"number\",\n        \"std\": 34096,\n        \"min\": 15000,\n        \"max\": 150000,\n        \"num_unique_values\": 117,\n        \"samples\": [\n          117000,\n          76000\n        ],\n        \"semantic_type\": \"\",\n        \"description\": \"\"\n      }\n    },\n    {\n      \"column\": \"Purchased\",\n      \"properties\": {\n        \"dtype\": \"number\",\n        \"std\": 0,\n        \"min\": 0,\n        \"max\": 1,\n        \"num_unique_values\": 2,\n        \"samples\": [\n          1,\n          0\n        ],\n        \"semantic_type\": \"\",\n        \"description\": \"\"\n      }\n    }\n  ]\n}"
            }
          },
          "metadata": {},
          "execution_count": 3
        }
      ]
    },
    {
      "cell_type": "code",
      "source": [
        "df.drop(columns='User ID',inplace=True)"
      ],
      "metadata": {
        "id": "TADYbnZglFHg"
      },
      "execution_count": 4,
      "outputs": []
    },
    {
      "cell_type": "code",
      "source": [
        "df=pd.get_dummies(df,columns=['Gender'],drop_first=True,dtype=int)"
      ],
      "metadata": {
        "id": "EzQqs2Q_lQxH"
      },
      "execution_count": 5,
      "outputs": []
    },
    {
      "cell_type": "code",
      "source": [
        "from sklearn.preprocessing import StandardScaler\n",
        "from sklearn.model_selection import train_test_split"
      ],
      "metadata": {
        "id": "uuNG84AJlSAk"
      },
      "execution_count": 6,
      "outputs": []
    },
    {
      "cell_type": "code",
      "source": [
        "x=df.drop(columns=['Purchased'])\n",
        "y=df['Purchased']"
      ],
      "metadata": {
        "id": "9hhJxcSlmTLl"
      },
      "execution_count": 7,
      "outputs": []
    },
    {
      "cell_type": "code",
      "source": [
        "scaler=StandardScaler()\n",
        "x_scaled=scaler.fit_transform(x)"
      ],
      "metadata": {
        "id": "EfL-SIuWmeve"
      },
      "execution_count": 8,
      "outputs": []
    },
    {
      "cell_type": "code",
      "source": [
        "x_train,x_test,y_train,y_test=train_test_split(x_scaled,y,random_state=42)\n"
      ],
      "metadata": {
        "id": "qffyquBnmkPW"
      },
      "execution_count": 9,
      "outputs": []
    },
    {
      "cell_type": "code",
      "source": [
        "y_train"
      ],
      "metadata": {
        "colab": {
          "base_uri": "https://localhost:8080/"
        },
        "id": "03AjBCgdmuwO",
        "outputId": "a80b5017-d3c2-4e37-b16a-025868ed93c3"
      },
      "execution_count": 10,
      "outputs": [
        {
          "output_type": "execute_result",
          "data": {
            "text/plain": [
              "247    1\n",
              "110    0\n",
              "16     1\n",
              "66     0\n",
              "153    0\n",
              "      ..\n",
              "71     0\n",
              "106    0\n",
              "270    0\n",
              "348    0\n",
              "102    0\n",
              "Name: Purchased, Length: 300, dtype: int64"
            ]
          },
          "metadata": {},
          "execution_count": 10
        }
      ]
    },
    {
      "cell_type": "code",
      "source": [
        "x_train.shape"
      ],
      "metadata": {
        "colab": {
          "base_uri": "https://localhost:8080/"
        },
        "id": "cKpk-TH3nYrs",
        "outputId": "11af336a-2e08-44f3-810d-64dce579605a"
      },
      "execution_count": 11,
      "outputs": [
        {
          "output_type": "execute_result",
          "data": {
            "text/plain": [
              "(300, 3)"
            ]
          },
          "metadata": {},
          "execution_count": 11
        }
      ]
    },
    {
      "cell_type": "code",
      "source": [
        "import tensorflow as tf\n"
      ],
      "metadata": {
        "id": "uf1r1my5pLve"
      },
      "execution_count": 11,
      "outputs": []
    },
    {
      "cell_type": "code",
      "source": [
        "from tensorflow.keras.callbacks import ModelCheckpoint,EarlyStopping"
      ],
      "metadata": {
        "id": "zZ9Dxg9IqtP0"
      },
      "execution_count": 8,
      "outputs": []
    },
    {
      "cell_type": "code",
      "source": [
        "from tensorflow.keras import Sequential\n",
        "from tensorflow.keras.layers import Dense,BatchNormalization,Activation"
      ],
      "metadata": {
        "id": "3z-3yO8Oqw_x"
      },
      "execution_count": 9,
      "outputs": []
    },
    {
      "cell_type": "code",
      "source": [
        "tf.random.set_seed(42)\n",
        "model=Sequential()\n",
        "model.add(Dense(20,activation='relu',input_dim=3))\n",
        "model.add(Dense(2,activation='relu'))\n",
        "model.add(Dense(1,activation='sigmoid'))\n",
        "\n"
      ],
      "metadata": {
        "id": "am-YMaTd6-dS"
      },
      "execution_count": 15,
      "outputs": []
    },
    {
      "cell_type": "code",
      "source": [
        "model.summary()"
      ],
      "metadata": {
        "colab": {
          "base_uri": "https://localhost:8080/"
        },
        "id": "HWCrRzzo8fH2",
        "outputId": "235bac91-8b40-404b-a052-0cf5d8e4e769"
      },
      "execution_count": 16,
      "outputs": [
        {
          "output_type": "stream",
          "name": "stdout",
          "text": [
            "Model: \"sequential\"\n",
            "_________________________________________________________________\n",
            " Layer (type)                Output Shape              Param #   \n",
            "=================================================================\n",
            " dense (Dense)               (None, 20)                80        \n",
            "                                                                 \n",
            " dense_1 (Dense)             (None, 2)                 42        \n",
            "                                                                 \n",
            " dense_2 (Dense)             (None, 1)                 3         \n",
            "                                                                 \n",
            "=================================================================\n",
            "Total params: 125 (500.00 Byte)\n",
            "Trainable params: 125 (500.00 Byte)\n",
            "Non-trainable params: 0 (0.00 Byte)\n",
            "_________________________________________________________________\n"
          ]
        }
      ]
    },
    {
      "cell_type": "code",
      "source": [
        "model.compile(optimizer='adam',loss='binary_crossentropy',metrics='accuracy')"
      ],
      "metadata": {
        "id": "xDsQhzqY9crf"
      },
      "execution_count": 17,
      "outputs": []
    },
    {
      "cell_type": "code",
      "source": [
        "checkpoint_cb=ModelCheckpoint('My_checkpoints',monitor='val_loss', save_bes_only=True)"
      ],
      "metadata": {
        "id": "8EsNaaCX-Cjr"
      },
      "execution_count": 18,
      "outputs": []
    },
    {
      "cell_type": "code",
      "source": [
        "history=model.fit(x_train,y_train,epochs=100,callbacks=[checkpoint_cb],validation_data=(x_test,y_test))"
      ],
      "metadata": {
        "colab": {
          "base_uri": "https://localhost:8080/"
        },
        "id": "Q4UZ2g41-oyR",
        "outputId": "b1a90de1-f90e-45c4-c65b-ecf235680667"
      },
      "execution_count": 20,
      "outputs": [
        {
          "output_type": "stream",
          "name": "stdout",
          "text": [
            "Epoch 1/100\n",
            "10/10 [==============================] - 1s 72ms/step - loss: 0.2429 - accuracy: 0.9067 - val_loss: 0.1914 - val_accuracy: 0.9300\n",
            "Epoch 2/100\n",
            "10/10 [==============================] - 1s 74ms/step - loss: 0.2425 - accuracy: 0.9067 - val_loss: 0.1910 - val_accuracy: 0.9300\n",
            "Epoch 3/100\n",
            "10/10 [==============================] - 1s 89ms/step - loss: 0.2420 - accuracy: 0.9067 - val_loss: 0.1909 - val_accuracy: 0.9200\n",
            "Epoch 4/100\n",
            "10/10 [==============================] - 1s 93ms/step - loss: 0.2417 - accuracy: 0.9067 - val_loss: 0.1910 - val_accuracy: 0.9200\n",
            "Epoch 5/100\n",
            "10/10 [==============================] - 1s 115ms/step - loss: 0.2415 - accuracy: 0.9067 - val_loss: 0.1918 - val_accuracy: 0.9200\n",
            "Epoch 6/100\n",
            "10/10 [==============================] - 1s 162ms/step - loss: 0.2412 - accuracy: 0.9067 - val_loss: 0.1923 - val_accuracy: 0.9200\n",
            "Epoch 7/100\n",
            "10/10 [==============================] - 1s 64ms/step - loss: 0.2411 - accuracy: 0.9067 - val_loss: 0.1926 - val_accuracy: 0.9300\n",
            "Epoch 8/100\n",
            "10/10 [==============================] - 1s 65ms/step - loss: 0.2405 - accuracy: 0.9067 - val_loss: 0.1929 - val_accuracy: 0.9200\n",
            "Epoch 9/100\n",
            "10/10 [==============================] - 1s 64ms/step - loss: 0.2405 - accuracy: 0.9067 - val_loss: 0.1925 - val_accuracy: 0.9200\n",
            "Epoch 10/100\n",
            "10/10 [==============================] - 1s 69ms/step - loss: 0.2399 - accuracy: 0.9067 - val_loss: 0.1927 - val_accuracy: 0.9300\n",
            "Epoch 11/100\n",
            "10/10 [==============================] - 1s 76ms/step - loss: 0.2397 - accuracy: 0.9067 - val_loss: 0.1929 - val_accuracy: 0.9300\n",
            "Epoch 12/100\n",
            "10/10 [==============================] - 1s 67ms/step - loss: 0.2395 - accuracy: 0.9067 - val_loss: 0.1923 - val_accuracy: 0.9300\n",
            "Epoch 13/100\n",
            "10/10 [==============================] - 1s 64ms/step - loss: 0.2393 - accuracy: 0.9100 - val_loss: 0.1930 - val_accuracy: 0.9300\n",
            "Epoch 14/100\n",
            "10/10 [==============================] - 1s 66ms/step - loss: 0.2393 - accuracy: 0.9100 - val_loss: 0.1931 - val_accuracy: 0.9300\n",
            "Epoch 15/100\n",
            "10/10 [==============================] - 1s 71ms/step - loss: 0.2392 - accuracy: 0.9133 - val_loss: 0.1940 - val_accuracy: 0.9300\n",
            "Epoch 16/100\n",
            "10/10 [==============================] - 1s 75ms/step - loss: 0.2386 - accuracy: 0.9133 - val_loss: 0.1936 - val_accuracy: 0.9300\n",
            "Epoch 17/100\n",
            "10/10 [==============================] - 1s 68ms/step - loss: 0.2382 - accuracy: 0.9100 - val_loss: 0.1939 - val_accuracy: 0.9300\n",
            "Epoch 18/100\n",
            "10/10 [==============================] - 1s 65ms/step - loss: 0.2382 - accuracy: 0.9100 - val_loss: 0.1944 - val_accuracy: 0.9300\n",
            "Epoch 19/100\n",
            "10/10 [==============================] - 1s 60ms/step - loss: 0.2376 - accuracy: 0.9100 - val_loss: 0.1936 - val_accuracy: 0.9300\n",
            "Epoch 20/100\n",
            "10/10 [==============================] - 1s 62ms/step - loss: 0.2375 - accuracy: 0.9100 - val_loss: 0.1940 - val_accuracy: 0.9300\n",
            "Epoch 21/100\n",
            "10/10 [==============================] - 1s 63ms/step - loss: 0.2372 - accuracy: 0.9100 - val_loss: 0.1943 - val_accuracy: 0.9300\n",
            "Epoch 22/100\n",
            "10/10 [==============================] - 1s 152ms/step - loss: 0.2369 - accuracy: 0.9133 - val_loss: 0.1945 - val_accuracy: 0.9300\n",
            "Epoch 23/100\n",
            "10/10 [==============================] - 1s 91ms/step - loss: 0.2368 - accuracy: 0.9100 - val_loss: 0.1936 - val_accuracy: 0.9300\n",
            "Epoch 24/100\n",
            "10/10 [==============================] - 1s 95ms/step - loss: 0.2363 - accuracy: 0.9100 - val_loss: 0.1947 - val_accuracy: 0.9300\n",
            "Epoch 25/100\n",
            "10/10 [==============================] - 1s 88ms/step - loss: 0.2360 - accuracy: 0.9133 - val_loss: 0.1959 - val_accuracy: 0.9300\n",
            "Epoch 26/100\n",
            "10/10 [==============================] - 1s 63ms/step - loss: 0.2360 - accuracy: 0.9133 - val_loss: 0.1970 - val_accuracy: 0.9300\n",
            "Epoch 27/100\n",
            "10/10 [==============================] - 1s 64ms/step - loss: 0.2356 - accuracy: 0.9133 - val_loss: 0.1966 - val_accuracy: 0.9300\n",
            "Epoch 28/100\n",
            "10/10 [==============================] - 1s 63ms/step - loss: 0.2353 - accuracy: 0.9133 - val_loss: 0.1962 - val_accuracy: 0.9300\n",
            "Epoch 29/100\n",
            "10/10 [==============================] - 1s 73ms/step - loss: 0.2358 - accuracy: 0.9100 - val_loss: 0.1960 - val_accuracy: 0.9300\n",
            "Epoch 30/100\n",
            "10/10 [==============================] - 1s 67ms/step - loss: 0.2347 - accuracy: 0.9133 - val_loss: 0.1969 - val_accuracy: 0.9300\n",
            "Epoch 31/100\n",
            "10/10 [==============================] - 1s 64ms/step - loss: 0.2345 - accuracy: 0.9133 - val_loss: 0.1978 - val_accuracy: 0.9300\n",
            "Epoch 32/100\n",
            "10/10 [==============================] - 1s 75ms/step - loss: 0.2344 - accuracy: 0.9133 - val_loss: 0.1978 - val_accuracy: 0.9300\n",
            "Epoch 33/100\n",
            "10/10 [==============================] - 1s 79ms/step - loss: 0.2341 - accuracy: 0.9133 - val_loss: 0.1973 - val_accuracy: 0.9300\n",
            "Epoch 34/100\n",
            "10/10 [==============================] - 1s 72ms/step - loss: 0.2336 - accuracy: 0.9133 - val_loss: 0.1973 - val_accuracy: 0.9300\n",
            "Epoch 35/100\n",
            "10/10 [==============================] - 1s 72ms/step - loss: 0.2336 - accuracy: 0.9133 - val_loss: 0.1973 - val_accuracy: 0.9300\n",
            "Epoch 36/100\n",
            "10/10 [==============================] - 1s 73ms/step - loss: 0.2334 - accuracy: 0.9133 - val_loss: 0.1971 - val_accuracy: 0.9300\n",
            "Epoch 37/100\n",
            "10/10 [==============================] - 1s 70ms/step - loss: 0.2336 - accuracy: 0.9133 - val_loss: 0.1972 - val_accuracy: 0.9300\n",
            "Epoch 38/100\n",
            "10/10 [==============================] - 1s 136ms/step - loss: 0.2333 - accuracy: 0.9133 - val_loss: 0.1985 - val_accuracy: 0.9300\n",
            "Epoch 39/100\n",
            "10/10 [==============================] - 1s 78ms/step - loss: 0.2332 - accuracy: 0.9133 - val_loss: 0.1993 - val_accuracy: 0.9300\n",
            "Epoch 40/100\n",
            "10/10 [==============================] - 1s 91ms/step - loss: 0.2327 - accuracy: 0.9133 - val_loss: 0.1989 - val_accuracy: 0.9300\n",
            "Epoch 41/100\n",
            "10/10 [==============================] - 1s 91ms/step - loss: 0.2325 - accuracy: 0.9133 - val_loss: 0.1989 - val_accuracy: 0.9300\n",
            "Epoch 42/100\n",
            "10/10 [==============================] - 1s 104ms/step - loss: 0.2319 - accuracy: 0.9133 - val_loss: 0.1984 - val_accuracy: 0.9300\n",
            "Epoch 43/100\n",
            "10/10 [==============================] - 1s 108ms/step - loss: 0.2320 - accuracy: 0.9133 - val_loss: 0.1980 - val_accuracy: 0.9300\n",
            "Epoch 44/100\n",
            "10/10 [==============================] - 1s 72ms/step - loss: 0.2320 - accuracy: 0.9133 - val_loss: 0.1973 - val_accuracy: 0.9300\n",
            "Epoch 45/100\n",
            "10/10 [==============================] - 1s 62ms/step - loss: 0.2318 - accuracy: 0.9133 - val_loss: 0.1970 - val_accuracy: 0.9300\n",
            "Epoch 46/100\n",
            "10/10 [==============================] - 1s 64ms/step - loss: 0.2312 - accuracy: 0.9133 - val_loss: 0.1969 - val_accuracy: 0.9300\n",
            "Epoch 47/100\n",
            "10/10 [==============================] - 1s 60ms/step - loss: 0.2314 - accuracy: 0.9133 - val_loss: 0.1968 - val_accuracy: 0.9300\n",
            "Epoch 48/100\n",
            "10/10 [==============================] - 1s 62ms/step - loss: 0.2311 - accuracy: 0.9133 - val_loss: 0.1965 - val_accuracy: 0.9300\n",
            "Epoch 49/100\n",
            "10/10 [==============================] - 1s 63ms/step - loss: 0.2310 - accuracy: 0.9133 - val_loss: 0.1961 - val_accuracy: 0.9300\n",
            "Epoch 50/100\n",
            "10/10 [==============================] - 1s 65ms/step - loss: 0.2311 - accuracy: 0.9133 - val_loss: 0.1959 - val_accuracy: 0.9300\n",
            "Epoch 51/100\n",
            "10/10 [==============================] - 1s 63ms/step - loss: 0.2307 - accuracy: 0.9133 - val_loss: 0.1975 - val_accuracy: 0.9300\n",
            "Epoch 52/100\n",
            "10/10 [==============================] - 1s 73ms/step - loss: 0.2304 - accuracy: 0.9133 - val_loss: 0.1969 - val_accuracy: 0.9300\n",
            "Epoch 53/100\n",
            "10/10 [==============================] - 1s 77ms/step - loss: 0.2300 - accuracy: 0.9133 - val_loss: 0.1975 - val_accuracy: 0.9300\n",
            "Epoch 54/100\n",
            "10/10 [==============================] - 1s 129ms/step - loss: 0.2300 - accuracy: 0.9133 - val_loss: 0.1972 - val_accuracy: 0.9300\n",
            "Epoch 55/100\n",
            "10/10 [==============================] - 1s 65ms/step - loss: 0.2303 - accuracy: 0.9133 - val_loss: 0.1978 - val_accuracy: 0.9300\n",
            "Epoch 56/100\n",
            "10/10 [==============================] - 1s 62ms/step - loss: 0.2294 - accuracy: 0.9133 - val_loss: 0.1981 - val_accuracy: 0.9300\n",
            "Epoch 57/100\n",
            "10/10 [==============================] - 1s 68ms/step - loss: 0.2295 - accuracy: 0.9133 - val_loss: 0.1977 - val_accuracy: 0.9300\n",
            "Epoch 58/100\n",
            "10/10 [==============================] - 1s 71ms/step - loss: 0.2295 - accuracy: 0.9133 - val_loss: 0.1968 - val_accuracy: 0.9300\n",
            "Epoch 59/100\n",
            "10/10 [==============================] - 1s 88ms/step - loss: 0.2291 - accuracy: 0.9133 - val_loss: 0.1968 - val_accuracy: 0.9300\n",
            "Epoch 60/100\n",
            "10/10 [==============================] - 1s 108ms/step - loss: 0.2290 - accuracy: 0.9133 - val_loss: 0.1970 - val_accuracy: 0.9300\n",
            "Epoch 61/100\n",
            "10/10 [==============================] - 1s 101ms/step - loss: 0.2288 - accuracy: 0.9133 - val_loss: 0.1971 - val_accuracy: 0.9300\n",
            "Epoch 62/100\n",
            "10/10 [==============================] - 1s 100ms/step - loss: 0.2286 - accuracy: 0.9133 - val_loss: 0.1973 - val_accuracy: 0.9300\n",
            "Epoch 63/100\n",
            "10/10 [==============================] - 1s 66ms/step - loss: 0.2288 - accuracy: 0.9133 - val_loss: 0.1975 - val_accuracy: 0.9300\n",
            "Epoch 64/100\n",
            "10/10 [==============================] - 1s 61ms/step - loss: 0.2283 - accuracy: 0.9133 - val_loss: 0.1967 - val_accuracy: 0.9300\n",
            "Epoch 65/100\n",
            "10/10 [==============================] - 1s 62ms/step - loss: 0.2283 - accuracy: 0.9133 - val_loss: 0.1967 - val_accuracy: 0.9300\n",
            "Epoch 66/100\n",
            "10/10 [==============================] - 1s 74ms/step - loss: 0.2282 - accuracy: 0.9133 - val_loss: 0.1974 - val_accuracy: 0.9300\n",
            "Epoch 67/100\n",
            "10/10 [==============================] - 1s 72ms/step - loss: 0.2280 - accuracy: 0.9133 - val_loss: 0.1974 - val_accuracy: 0.9300\n",
            "Epoch 68/100\n",
            "10/10 [==============================] - 1s 71ms/step - loss: 0.2278 - accuracy: 0.9133 - val_loss: 0.1971 - val_accuracy: 0.9300\n",
            "Epoch 69/100\n",
            "10/10 [==============================] - 1s 111ms/step - loss: 0.2276 - accuracy: 0.9133 - val_loss: 0.1968 - val_accuracy: 0.9300\n",
            "Epoch 70/100\n",
            "10/10 [==============================] - 1s 65ms/step - loss: 0.2279 - accuracy: 0.9133 - val_loss: 0.1969 - val_accuracy: 0.9300\n",
            "Epoch 71/100\n",
            "10/10 [==============================] - 1s 66ms/step - loss: 0.2276 - accuracy: 0.9133 - val_loss: 0.1978 - val_accuracy: 0.9300\n",
            "Epoch 72/100\n",
            "10/10 [==============================] - 1s 64ms/step - loss: 0.2274 - accuracy: 0.9133 - val_loss: 0.1983 - val_accuracy: 0.9300\n",
            "Epoch 73/100\n",
            "10/10 [==============================] - 1s 65ms/step - loss: 0.2272 - accuracy: 0.9133 - val_loss: 0.1988 - val_accuracy: 0.9300\n",
            "Epoch 74/100\n",
            "10/10 [==============================] - 1s 60ms/step - loss: 0.2273 - accuracy: 0.9133 - val_loss: 0.1984 - val_accuracy: 0.9300\n",
            "Epoch 75/100\n",
            "10/10 [==============================] - 1s 63ms/step - loss: 0.2273 - accuracy: 0.9133 - val_loss: 0.1981 - val_accuracy: 0.9300\n",
            "Epoch 76/100\n",
            "10/10 [==============================] - 1s 62ms/step - loss: 0.2268 - accuracy: 0.9133 - val_loss: 0.1981 - val_accuracy: 0.9300\n",
            "Epoch 77/100\n",
            "10/10 [==============================] - 1s 65ms/step - loss: 0.2268 - accuracy: 0.9133 - val_loss: 0.1980 - val_accuracy: 0.9300\n",
            "Epoch 78/100\n",
            "10/10 [==============================] - 1s 66ms/step - loss: 0.2266 - accuracy: 0.9133 - val_loss: 0.1977 - val_accuracy: 0.9300\n",
            "Epoch 79/100\n",
            "10/10 [==============================] - 1s 103ms/step - loss: 0.2264 - accuracy: 0.9133 - val_loss: 0.1972 - val_accuracy: 0.9300\n",
            "Epoch 80/100\n",
            "10/10 [==============================] - 1s 93ms/step - loss: 0.2265 - accuracy: 0.9133 - val_loss: 0.1977 - val_accuracy: 0.9300\n",
            "Epoch 81/100\n",
            "10/10 [==============================] - 1s 96ms/step - loss: 0.2262 - accuracy: 0.9133 - val_loss: 0.1969 - val_accuracy: 0.9300\n",
            "Epoch 82/100\n",
            "10/10 [==============================] - 1s 105ms/step - loss: 0.2260 - accuracy: 0.9133 - val_loss: 0.1966 - val_accuracy: 0.9300\n",
            "Epoch 83/100\n",
            "10/10 [==============================] - 1s 72ms/step - loss: 0.2259 - accuracy: 0.9133 - val_loss: 0.1963 - val_accuracy: 0.9300\n",
            "Epoch 84/100\n",
            "10/10 [==============================] - 1s 64ms/step - loss: 0.2257 - accuracy: 0.9133 - val_loss: 0.1958 - val_accuracy: 0.9300\n",
            "Epoch 85/100\n",
            "10/10 [==============================] - 1s 140ms/step - loss: 0.2258 - accuracy: 0.9133 - val_loss: 0.1960 - val_accuracy: 0.9300\n",
            "Epoch 86/100\n",
            "10/10 [==============================] - 1s 78ms/step - loss: 0.2255 - accuracy: 0.9133 - val_loss: 0.1967 - val_accuracy: 0.9300\n",
            "Epoch 87/100\n",
            "10/10 [==============================] - 1s 66ms/step - loss: 0.2252 - accuracy: 0.9133 - val_loss: 0.1972 - val_accuracy: 0.9300\n",
            "Epoch 88/100\n",
            "10/10 [==============================] - 1s 66ms/step - loss: 0.2255 - accuracy: 0.9133 - val_loss: 0.1975 - val_accuracy: 0.9300\n",
            "Epoch 89/100\n",
            "10/10 [==============================] - 1s 72ms/step - loss: 0.2252 - accuracy: 0.9133 - val_loss: 0.1975 - val_accuracy: 0.9300\n",
            "Epoch 90/100\n",
            "10/10 [==============================] - 1s 71ms/step - loss: 0.2250 - accuracy: 0.9133 - val_loss: 0.1976 - val_accuracy: 0.9300\n",
            "Epoch 91/100\n",
            "10/10 [==============================] - 1s 66ms/step - loss: 0.2250 - accuracy: 0.9133 - val_loss: 0.1970 - val_accuracy: 0.9300\n",
            "Epoch 92/100\n",
            "10/10 [==============================] - 1s 64ms/step - loss: 0.2250 - accuracy: 0.9133 - val_loss: 0.1969 - val_accuracy: 0.9300\n",
            "Epoch 93/100\n",
            "10/10 [==============================] - 1s 64ms/step - loss: 0.2244 - accuracy: 0.9133 - val_loss: 0.1961 - val_accuracy: 0.9300\n",
            "Epoch 94/100\n",
            "10/10 [==============================] - 1s 64ms/step - loss: 0.2248 - accuracy: 0.9133 - val_loss: 0.1955 - val_accuracy: 0.9300\n",
            "Epoch 95/100\n",
            "10/10 [==============================] - 1s 66ms/step - loss: 0.2244 - accuracy: 0.9133 - val_loss: 0.1955 - val_accuracy: 0.9300\n",
            "Epoch 96/100\n",
            "10/10 [==============================] - 1s 78ms/step - loss: 0.2246 - accuracy: 0.9133 - val_loss: 0.1960 - val_accuracy: 0.9300\n",
            "Epoch 97/100\n",
            "10/10 [==============================] - 1s 70ms/step - loss: 0.2241 - accuracy: 0.9133 - val_loss: 0.1957 - val_accuracy: 0.9300\n",
            "Epoch 98/100\n",
            "10/10 [==============================] - 1s 96ms/step - loss: 0.2241 - accuracy: 0.9133 - val_loss: 0.1956 - val_accuracy: 0.9300\n",
            "Epoch 99/100\n",
            "10/10 [==============================] - 1s 93ms/step - loss: 0.2244 - accuracy: 0.9133 - val_loss: 0.1962 - val_accuracy: 0.9300\n",
            "Epoch 100/100\n",
            "10/10 [==============================] - 1s 98ms/step - loss: 0.2238 - accuracy: 0.9133 - val_loss: 0.1965 - val_accuracy: 0.9300\n"
          ]
        }
      ]
    },
    {
      "cell_type": "code",
      "source": [
        "from tensorflow.keras.models import load_model\n",
        "best_model=load_model(\"My_checkpoints\")"
      ],
      "metadata": {
        "id": "CRWjroTT_SR8"
      },
      "execution_count": 21,
      "outputs": []
    },
    {
      "cell_type": "code",
      "source": [
        "best_model.evaluate(x_test,y_test)"
      ],
      "metadata": {
        "colab": {
          "base_uri": "https://localhost:8080/"
        },
        "id": "0k5MSWLXAJ4c",
        "outputId": "e2a16bd3-b8ca-487b-c40d-0b385fc0977b"
      },
      "execution_count": null,
      "outputs": [
        {
          "output_type": "stream",
          "name": "stdout",
          "text": [
            "4/4 [==============================] - 0s 4ms/step - loss: 0.3596 - accuracy: 0.9300\n"
          ]
        },
        {
          "output_type": "execute_result",
          "data": {
            "text/plain": [
              "[0.3596119284629822, 0.9300000071525574]"
            ]
          },
          "metadata": {},
          "execution_count": 29
        }
      ]
    },
    {
      "cell_type": "code",
      "source": [
        "from tensorflow.keras.datasets import mnist\n",
        "from tensorflow.keras.preprocessing.image import ImageDataGenerator\n",
        "from tensorflow.keras.utils import array_to_img,img_to_array,load_img"
      ],
      "metadata": {
        "id": "41XGGHaeH4t0"
      },
      "execution_count": 58,
      "outputs": []
    },
    {
      "cell_type": "code",
      "source": [
        "mnist.load_data()"
      ],
      "metadata": {
        "colab": {
          "base_uri": "https://localhost:8080/"
        },
        "id": "5OKZYBF-7zJE",
        "outputId": "92284da5-3371-424d-c8f1-deb3603973a8"
      },
      "execution_count": 36,
      "outputs": [
        {
          "output_type": "stream",
          "name": "stdout",
          "text": [
            "Downloading data from https://storage.googleapis.com/tensorflow/tf-keras-datasets/mnist.npz\n",
            "11490434/11490434 [==============================] - 0s 0us/step\n"
          ]
        },
        {
          "output_type": "execute_result",
          "data": {
            "text/plain": [
              "((array([[[0, 0, 0, ..., 0, 0, 0],\n",
              "          [0, 0, 0, ..., 0, 0, 0],\n",
              "          [0, 0, 0, ..., 0, 0, 0],\n",
              "          ...,\n",
              "          [0, 0, 0, ..., 0, 0, 0],\n",
              "          [0, 0, 0, ..., 0, 0, 0],\n",
              "          [0, 0, 0, ..., 0, 0, 0]],\n",
              "  \n",
              "         [[0, 0, 0, ..., 0, 0, 0],\n",
              "          [0, 0, 0, ..., 0, 0, 0],\n",
              "          [0, 0, 0, ..., 0, 0, 0],\n",
              "          ...,\n",
              "          [0, 0, 0, ..., 0, 0, 0],\n",
              "          [0, 0, 0, ..., 0, 0, 0],\n",
              "          [0, 0, 0, ..., 0, 0, 0]],\n",
              "  \n",
              "         [[0, 0, 0, ..., 0, 0, 0],\n",
              "          [0, 0, 0, ..., 0, 0, 0],\n",
              "          [0, 0, 0, ..., 0, 0, 0],\n",
              "          ...,\n",
              "          [0, 0, 0, ..., 0, 0, 0],\n",
              "          [0, 0, 0, ..., 0, 0, 0],\n",
              "          [0, 0, 0, ..., 0, 0, 0]],\n",
              "  \n",
              "         ...,\n",
              "  \n",
              "         [[0, 0, 0, ..., 0, 0, 0],\n",
              "          [0, 0, 0, ..., 0, 0, 0],\n",
              "          [0, 0, 0, ..., 0, 0, 0],\n",
              "          ...,\n",
              "          [0, 0, 0, ..., 0, 0, 0],\n",
              "          [0, 0, 0, ..., 0, 0, 0],\n",
              "          [0, 0, 0, ..., 0, 0, 0]],\n",
              "  \n",
              "         [[0, 0, 0, ..., 0, 0, 0],\n",
              "          [0, 0, 0, ..., 0, 0, 0],\n",
              "          [0, 0, 0, ..., 0, 0, 0],\n",
              "          ...,\n",
              "          [0, 0, 0, ..., 0, 0, 0],\n",
              "          [0, 0, 0, ..., 0, 0, 0],\n",
              "          [0, 0, 0, ..., 0, 0, 0]],\n",
              "  \n",
              "         [[0, 0, 0, ..., 0, 0, 0],\n",
              "          [0, 0, 0, ..., 0, 0, 0],\n",
              "          [0, 0, 0, ..., 0, 0, 0],\n",
              "          ...,\n",
              "          [0, 0, 0, ..., 0, 0, 0],\n",
              "          [0, 0, 0, ..., 0, 0, 0],\n",
              "          [0, 0, 0, ..., 0, 0, 0]]], dtype=uint8),\n",
              "  array([5, 0, 4, ..., 5, 6, 8], dtype=uint8)),\n",
              " (array([[[0, 0, 0, ..., 0, 0, 0],\n",
              "          [0, 0, 0, ..., 0, 0, 0],\n",
              "          [0, 0, 0, ..., 0, 0, 0],\n",
              "          ...,\n",
              "          [0, 0, 0, ..., 0, 0, 0],\n",
              "          [0, 0, 0, ..., 0, 0, 0],\n",
              "          [0, 0, 0, ..., 0, 0, 0]],\n",
              "  \n",
              "         [[0, 0, 0, ..., 0, 0, 0],\n",
              "          [0, 0, 0, ..., 0, 0, 0],\n",
              "          [0, 0, 0, ..., 0, 0, 0],\n",
              "          ...,\n",
              "          [0, 0, 0, ..., 0, 0, 0],\n",
              "          [0, 0, 0, ..., 0, 0, 0],\n",
              "          [0, 0, 0, ..., 0, 0, 0]],\n",
              "  \n",
              "         [[0, 0, 0, ..., 0, 0, 0],\n",
              "          [0, 0, 0, ..., 0, 0, 0],\n",
              "          [0, 0, 0, ..., 0, 0, 0],\n",
              "          ...,\n",
              "          [0, 0, 0, ..., 0, 0, 0],\n",
              "          [0, 0, 0, ..., 0, 0, 0],\n",
              "          [0, 0, 0, ..., 0, 0, 0]],\n",
              "  \n",
              "         ...,\n",
              "  \n",
              "         [[0, 0, 0, ..., 0, 0, 0],\n",
              "          [0, 0, 0, ..., 0, 0, 0],\n",
              "          [0, 0, 0, ..., 0, 0, 0],\n",
              "          ...,\n",
              "          [0, 0, 0, ..., 0, 0, 0],\n",
              "          [0, 0, 0, ..., 0, 0, 0],\n",
              "          [0, 0, 0, ..., 0, 0, 0]],\n",
              "  \n",
              "         [[0, 0, 0, ..., 0, 0, 0],\n",
              "          [0, 0, 0, ..., 0, 0, 0],\n",
              "          [0, 0, 0, ..., 0, 0, 0],\n",
              "          ...,\n",
              "          [0, 0, 0, ..., 0, 0, 0],\n",
              "          [0, 0, 0, ..., 0, 0, 0],\n",
              "          [0, 0, 0, ..., 0, 0, 0]],\n",
              "  \n",
              "         [[0, 0, 0, ..., 0, 0, 0],\n",
              "          [0, 0, 0, ..., 0, 0, 0],\n",
              "          [0, 0, 0, ..., 0, 0, 0],\n",
              "          ...,\n",
              "          [0, 0, 0, ..., 0, 0, 0],\n",
              "          [0, 0, 0, ..., 0, 0, 0],\n",
              "          [0, 0, 0, ..., 0, 0, 0]]], dtype=uint8),\n",
              "  array([7, 2, 1, ..., 4, 5, 6], dtype=uint8)))"
            ]
          },
          "metadata": {},
          "execution_count": 36
        }
      ]
    },
    {
      "cell_type": "code",
      "source": [
        "for i in mnist.load_data():\n",
        "  for j in i:\n",
        "    print(j.shape)"
      ],
      "metadata": {
        "colab": {
          "base_uri": "https://localhost:8080/"
        },
        "id": "8YX2DGm0Xe0J",
        "outputId": "d9e86cb3-5b29-469b-e62d-90505e4f69fe"
      },
      "execution_count": 2,
      "outputs": [
        {
          "output_type": "stream",
          "name": "stdout",
          "text": [
            "Downloading data from https://storage.googleapis.com/tensorflow/tf-keras-datasets/mnist.npz\n",
            "11490434/11490434 [==============================] - 0s 0us/step\n",
            "(60000, 28, 28)\n",
            "(60000,)\n",
            "(10000, 28, 28)\n",
            "(10000,)\n"
          ]
        }
      ]
    },
    {
      "cell_type": "code",
      "source": [
        "(x_train,y_train),(x_test,y_test)=mnist.load_data()"
      ],
      "metadata": {
        "id": "MDz4oyJPXgIh"
      },
      "execution_count": 37,
      "outputs": []
    },
    {
      "cell_type": "code",
      "source": [
        "image=array_to_img(x_train[0].reshape(28,28,1))\n",
        "plt.imshow(image,cmap='gray')\n",
        "plt.show()"
      ],
      "metadata": {
        "colab": {
          "base_uri": "https://localhost:8080/",
          "height": 450
        },
        "id": "YE0URmlFXqW4",
        "outputId": "8ec1fb29-42c2-4646-9dca-b78fa31d4b08"
      },
      "execution_count": 72,
      "outputs": [
        {
          "output_type": "display_data",
          "data": {
            "text/plain": [
              "<Figure size 640x480 with 1 Axes>"
            ],
            "image/png": "[encoded data removed]"
          },
          "metadata": {}
        }
      ]
    },
    {
      "cell_type": "code",
      "source": [
        "type(image)"
      ],
      "metadata": {
        "colab": {
          "base_uri": "https://localhost:8080/",
          "height": 206
        },
        "id": "PYKQFY34ZFkv",
        "outputId": "ef1370db-f0c8-47c1-99b0-5ddaff804842"
      },
      "execution_count": 73,
      "outputs": [
        {
          "output_type": "execute_result",
          "data": {
            "text/plain": [
              "PIL.Image.Image"
            ],
            "text/html": [
              "<div style=\"max-width:800px; border: 1px solid var(--colab-border-color);\"><style>\n",
              "      pre.function-repr-contents {\n",
              "        overflow-x: auto;\n",
              "        padding: 8px 12px;\n",
              "        max-height: 500px;\n",
              "      }\n",
              "\n",
              "      pre.function-repr-contents.function-repr-contents-collapsed {\n",
              "        cursor: pointer;\n",
              "        max-height: 100px;\n",
              "      }\n",
              "    </style>\n",
              "    <pre style=\"white-space: initial; background:\n",
              "         var(--colab-secondary-surface-color); padding: 8px 12px;\n",
              "         border-bottom: 1px solid var(--colab-border-color);\"><b>PIL.Image.Image</b><br/>def __init__()</pre><pre class=\"function-repr-contents function-repr-contents-collapsed\" style=\"\"><a class=\"filepath\" style=\"display:none\" href=\"#\">/usr/local/lib/python3.10/dist-packages/PIL/Image.py</a>This class represents an image object.  To create\n",
              ":py:class:`~PIL.Image.Image` objects, use the appropriate factory\n",
              "functions.  There&#x27;s hardly ever any reason to call the Image constructor\n",
              "directly.\n",
              "\n",
              "* :py:func:`~PIL.Image.open`\n",
              "* :py:func:`~PIL.Image.new`\n",
              "* :py:func:`~PIL.Image.frombytes`</pre>\n",
              "      <script>\n",
              "      if (google.colab.kernel.accessAllowed && google.colab.files && google.colab.files.view) {\n",
              "        for (const element of document.querySelectorAll('.filepath')) {\n",
              "          element.style.display = 'block'\n",
              "          element.onclick = (event) => {\n",
              "            event.preventDefault();\n",
              "            event.stopPropagation();\n",
              "            google.colab.files.view(element.textContent, 496);\n",
              "          };\n",
              "        }\n",
              "      }\n",
              "      for (const element of document.querySelectorAll('.function-repr-contents')) {\n",
              "        element.onclick = (event) => {\n",
              "          event.preventDefault();\n",
              "          event.stopPropagation();\n",
              "          element.classList.toggle('function-repr-contents-collapsed');\n",
              "        };\n",
              "      }\n",
              "      </script>\n",
              "      </div>"
            ]
          },
          "metadata": {},
          "execution_count": 73
        }
      ]
    },
    {
      "cell_type": "code",
      "source": [
        "from PIL import Image\n"
      ],
      "metadata": {
        "id": "bycIEmXpKg2Y"
      },
      "execution_count": 64,
      "outputs": []
    },
    {
      "cell_type": "code",
      "source": [
        "x_train0_array"
      ],
      "metadata": {
        "id": "vepX7j9rRhp2"
      },
      "execution_count": 49,
      "outputs": []
    },
    {
      "cell_type": "code",
      "source": [
        "x_train,x_test=x_train/255.,x_test/255.\n",
        "x_train.resize((60000,784))\n",
        "x_train"
      ],
      "metadata": {
        "colab": {
          "base_uri": "https://localhost:8080/"
        },
        "id": "_kn56szqYWa8",
        "outputId": "effa6b85-36cc-446b-ea87-4c351b4424e1"
      },
      "execution_count": 4,
      "outputs": [
        {
          "output_type": "execute_result",
          "data": {
            "text/plain": [
              "array([[0., 0., 0., ..., 0., 0., 0.],\n",
              "       [0., 0., 0., ..., 0., 0., 0.],\n",
              "       [0., 0., 0., ..., 0., 0., 0.],\n",
              "       ...,\n",
              "       [0., 0., 0., ..., 0., 0., 0.],\n",
              "       [0., 0., 0., ..., 0., 0., 0.],\n",
              "       [0., 0., 0., ..., 0., 0., 0.]])"
            ]
          },
          "metadata": {},
          "execution_count": 4
        }
      ]
    },
    {
      "cell_type": "code",
      "source": [
        "x_test.resize((10000,784))\n",
        "x_test"
      ],
      "metadata": {
        "colab": {
          "base_uri": "https://localhost:8080/"
        },
        "id": "zKztqOJ6b8s8",
        "outputId": "0dcd23ac-46c2-44dd-da3d-f305cacb1fd9"
      },
      "execution_count": 5,
      "outputs": [
        {
          "output_type": "execute_result",
          "data": {
            "text/plain": [
              "array([[0., 0., 0., ..., 0., 0., 0.],\n",
              "       [0., 0., 0., ..., 0., 0., 0.],\n",
              "       [0., 0., 0., ..., 0., 0., 0.],\n",
              "       ...,\n",
              "       [0., 0., 0., ..., 0., 0., 0.],\n",
              "       [0., 0., 0., ..., 0., 0., 0.],\n",
              "       [0., 0., 0., ..., 0., 0., 0.]])"
            ]
          },
          "metadata": {},
          "execution_count": 5
        }
      ]
    },
    {
      "cell_type": "code",
      "source": [
        "tf.random.set_seed(42)\n",
        "model_mnist=Sequential()\n",
        "model_mnist.add(Dense(50,kernel_initializer='he_normal',input_shape=(784,)))\n",
        "model_mnist.add(BatchNormalization())\n",
        "model_mnist.add(Activation('relu'))\n",
        "model_mnist.add(Dense(50,kernel_initializer='he_normal'))\n",
        "model_mnist.add(BatchNormalization())\n",
        "model_mnist.add(Activation('relu'))\n",
        "model_mnist.add(Dense(10,activation='softmax',kernel_initializer='he_normal'))"
      ],
      "metadata": {
        "id": "OoXSd0m3ZEJZ"
      },
      "execution_count": 12,
      "outputs": []
    },
    {
      "cell_type": "code",
      "source": [
        "model_mnist.summary()"
      ],
      "metadata": {
        "colab": {
          "base_uri": "https://localhost:8080/"
        },
        "id": "K3hUsx7zZIYd",
        "outputId": "8b516c6b-b0e3-4683-c739-2f165c345659"
      },
      "execution_count": 13,
      "outputs": [
        {
          "output_type": "stream",
          "name": "stdout",
          "text": [
            "Model: \"sequential\"\n",
            "_________________________________________________________________\n",
            " Layer (type)                Output Shape              Param #   \n",
            "=================================================================\n",
            " dense (Dense)               (None, 50)                39250     \n",
            "                                                                 \n",
            " batch_normalization (Batch  (None, 50)                200       \n",
            " Normalization)                                                  \n",
            "                                                                 \n",
            " activation (Activation)     (None, 50)                0         \n",
            "                                                                 \n",
            " dense_1 (Dense)             (None, 50)                2550      \n",
            "                                                                 \n",
            " batch_normalization_1 (Bat  (None, 50)                200       \n",
            " chNormalization)                                                \n",
            "                                                                 \n",
            " activation_1 (Activation)   (None, 50)                0         \n",
            "                                                                 \n",
            " dense_2 (Dense)             (None, 10)                510       \n",
            "                                                                 \n",
            "=================================================================\n",
            "Total params: 42710 (166.84 KB)\n",
            "Trainable params: 42510 (166.05 KB)\n",
            "Non-trainable params: 200 (800.00 Byte)\n",
            "_________________________________________________________________\n"
          ]
        }
      ]
    },
    {
      "cell_type": "code",
      "source": [
        "model_mnist.compile(optimizer='adam',loss='sparse_categorical_crossentropy',metrics=['accuracy'])"
      ],
      "metadata": {
        "id": "K8SR2f7SeVWx"
      },
      "execution_count": 14,
      "outputs": []
    },
    {
      "cell_type": "code",
      "source": [
        "model_mnist.fit(x_train,y_train,epochs=50,validation_split=0.2)"
      ],
      "metadata": {
        "colab": {
          "base_uri": "https://localhost:8080/"
        },
        "id": "S3qmJAzefTlh",
        "outputId": "492ba8df-632c-43bf-ef6d-c29d6dc54e1b"
      },
      "execution_count": 15,
      "outputs": [
        {
          "output_type": "stream",
          "name": "stdout",
          "text": [
            "Epoch 1/50\n",
            "1500/1500 [==============================] - 10s 4ms/step - loss: 0.3545 - accuracy: 0.8999 - val_loss: 0.1451 - val_accuracy: 0.9605\n",
            "Epoch 2/50\n",
            "1500/1500 [==============================] - 7s 4ms/step - loss: 0.1676 - accuracy: 0.9501 - val_loss: 0.1258 - val_accuracy: 0.9626\n",
            "Epoch 3/50\n",
            "1500/1500 [==============================] - 6s 4ms/step - loss: 0.1274 - accuracy: 0.9617 - val_loss: 0.1021 - val_accuracy: 0.9696\n",
            "Epoch 4/50\n",
            "1500/1500 [==============================] - 7s 4ms/step - loss: 0.1089 - accuracy: 0.9662 - val_loss: 0.1067 - val_accuracy: 0.9666\n",
            "Epoch 5/50\n",
            "1500/1500 [==============================] - 6s 4ms/step - loss: 0.0899 - accuracy: 0.9715 - val_loss: 0.0903 - val_accuracy: 0.9742\n",
            "Epoch 6/50\n",
            "1500/1500 [==============================] - 7s 5ms/step - loss: 0.0819 - accuracy: 0.9740 - val_loss: 0.0899 - val_accuracy: 0.9722\n",
            "Epoch 7/50\n",
            "1500/1500 [==============================] - 7s 4ms/step - loss: 0.0725 - accuracy: 0.9763 - val_loss: 0.0967 - val_accuracy: 0.9722\n",
            "Epoch 8/50\n",
            "1500/1500 [==============================] - 6s 4ms/step - loss: 0.0707 - accuracy: 0.9775 - val_loss: 0.0967 - val_accuracy: 0.9707\n",
            "Epoch 9/50\n",
            "1500/1500 [==============================] - 6s 4ms/step - loss: 0.0651 - accuracy: 0.9786 - val_loss: 0.0882 - val_accuracy: 0.9748\n",
            "Epoch 10/50\n",
            "1500/1500 [==============================] - 6s 4ms/step - loss: 0.0593 - accuracy: 0.9805 - val_loss: 0.0888 - val_accuracy: 0.9732\n",
            "Epoch 11/50\n",
            "1500/1500 [==============================] - 6s 4ms/step - loss: 0.0574 - accuracy: 0.9816 - val_loss: 0.0891 - val_accuracy: 0.9734\n",
            "Epoch 12/50\n",
            "1500/1500 [==============================] - 7s 4ms/step - loss: 0.0517 - accuracy: 0.9822 - val_loss: 0.0886 - val_accuracy: 0.9748\n",
            "Epoch 13/50\n",
            "1500/1500 [==============================] - 6s 4ms/step - loss: 0.0507 - accuracy: 0.9829 - val_loss: 0.0888 - val_accuracy: 0.9751\n",
            "Epoch 14/50\n",
            "1500/1500 [==============================] - 6s 4ms/step - loss: 0.0462 - accuracy: 0.9843 - val_loss: 0.0928 - val_accuracy: 0.9743\n",
            "Epoch 15/50\n",
            "1500/1500 [==============================] - 6s 4ms/step - loss: 0.0453 - accuracy: 0.9849 - val_loss: 0.0864 - val_accuracy: 0.9753\n",
            "Epoch 16/50\n",
            "1500/1500 [==============================] - 6s 4ms/step - loss: 0.0441 - accuracy: 0.9846 - val_loss: 0.0999 - val_accuracy: 0.9732\n",
            "Epoch 17/50\n",
            "1500/1500 [==============================] - 6s 4ms/step - loss: 0.0412 - accuracy: 0.9857 - val_loss: 0.0956 - val_accuracy: 0.9731\n",
            "Epoch 18/50\n",
            "1500/1500 [==============================] - 6s 4ms/step - loss: 0.0426 - accuracy: 0.9855 - val_loss: 0.0926 - val_accuracy: 0.9748\n",
            "Epoch 19/50\n",
            "1500/1500 [==============================] - 6s 4ms/step - loss: 0.0375 - accuracy: 0.9866 - val_loss: 0.0897 - val_accuracy: 0.9768\n",
            "Epoch 20/50\n",
            "1500/1500 [==============================] - 6s 4ms/step - loss: 0.0374 - accuracy: 0.9876 - val_loss: 0.0961 - val_accuracy: 0.9753\n",
            "Epoch 21/50\n",
            "1500/1500 [==============================] - 6s 4ms/step - loss: 0.0367 - accuracy: 0.9873 - val_loss: 0.0890 - val_accuracy: 0.9753\n",
            "Epoch 22/50\n",
            "1500/1500 [==============================] - 6s 4ms/step - loss: 0.0357 - accuracy: 0.9880 - val_loss: 0.1027 - val_accuracy: 0.9742\n",
            "Epoch 23/50\n",
            "1500/1500 [==============================] - 6s 4ms/step - loss: 0.0352 - accuracy: 0.9878 - val_loss: 0.1015 - val_accuracy: 0.9743\n",
            "Epoch 24/50\n",
            "1500/1500 [==============================] - 6s 4ms/step - loss: 0.0341 - accuracy: 0.9886 - val_loss: 0.0892 - val_accuracy: 0.9768\n",
            "Epoch 25/50\n",
            "1500/1500 [==============================] - 6s 4ms/step - loss: 0.0332 - accuracy: 0.9885 - val_loss: 0.0956 - val_accuracy: 0.9769\n",
            "Epoch 26/50\n",
            "1500/1500 [==============================] - 6s 4ms/step - loss: 0.0307 - accuracy: 0.9893 - val_loss: 0.0949 - val_accuracy: 0.9767\n",
            "Epoch 27/50\n",
            "1500/1500 [==============================] - 6s 4ms/step - loss: 0.0285 - accuracy: 0.9900 - val_loss: 0.0999 - val_accuracy: 0.9758\n",
            "Epoch 28/50\n",
            "1500/1500 [==============================] - 6s 4ms/step - loss: 0.0323 - accuracy: 0.9890 - val_loss: 0.0985 - val_accuracy: 0.9761\n",
            "Epoch 29/50\n",
            "1500/1500 [==============================] - 6s 4ms/step - loss: 0.0284 - accuracy: 0.9905 - val_loss: 0.1013 - val_accuracy: 0.9753\n",
            "Epoch 30/50\n",
            "1500/1500 [==============================] - 6s 4ms/step - loss: 0.0295 - accuracy: 0.9897 - val_loss: 0.0948 - val_accuracy: 0.9758\n",
            "Epoch 31/50\n",
            "1500/1500 [==============================] - 7s 5ms/step - loss: 0.0266 - accuracy: 0.9909 - val_loss: 0.1062 - val_accuracy: 0.9753\n",
            "Epoch 32/50\n",
            "1500/1500 [==============================] - 6s 4ms/step - loss: 0.0251 - accuracy: 0.9914 - val_loss: 0.1041 - val_accuracy: 0.9751\n",
            "Epoch 33/50\n",
            "1500/1500 [==============================] - 7s 4ms/step - loss: 0.0271 - accuracy: 0.9899 - val_loss: 0.0998 - val_accuracy: 0.9752\n",
            "Epoch 34/50\n",
            "1500/1500 [==============================] - 6s 4ms/step - loss: 0.0260 - accuracy: 0.9910 - val_loss: 0.1078 - val_accuracy: 0.9763\n",
            "Epoch 35/50\n",
            "1500/1500 [==============================] - 7s 4ms/step - loss: 0.0244 - accuracy: 0.9915 - val_loss: 0.1124 - val_accuracy: 0.9735\n",
            "Epoch 36/50\n",
            "1500/1500 [==============================] - 6s 4ms/step - loss: 0.0265 - accuracy: 0.9907 - val_loss: 0.1117 - val_accuracy: 0.9743\n",
            "Epoch 37/50\n",
            "1500/1500 [==============================] - 7s 4ms/step - loss: 0.0259 - accuracy: 0.9910 - val_loss: 0.1084 - val_accuracy: 0.9758\n",
            "Epoch 38/50\n",
            "1500/1500 [==============================] - 7s 4ms/step - loss: 0.0239 - accuracy: 0.9917 - val_loss: 0.1118 - val_accuracy: 0.9730\n",
            "Epoch 39/50\n",
            "1500/1500 [==============================] - 7s 4ms/step - loss: 0.0242 - accuracy: 0.9922 - val_loss: 0.1057 - val_accuracy: 0.9763\n",
            "Epoch 40/50\n",
            "1500/1500 [==============================] - 6s 4ms/step - loss: 0.0246 - accuracy: 0.9914 - val_loss: 0.1089 - val_accuracy: 0.9751\n",
            "Epoch 41/50\n",
            "1500/1500 [==============================] - 7s 4ms/step - loss: 0.0236 - accuracy: 0.9924 - val_loss: 0.1045 - val_accuracy: 0.9768\n",
            "Epoch 42/50\n",
            "1500/1500 [==============================] - 6s 4ms/step - loss: 0.0245 - accuracy: 0.9914 - val_loss: 0.1135 - val_accuracy: 0.9740\n",
            "Epoch 43/50\n",
            "1500/1500 [==============================] - 7s 4ms/step - loss: 0.0236 - accuracy: 0.9917 - val_loss: 0.1165 - val_accuracy: 0.9755\n",
            "Epoch 44/50\n",
            "1500/1500 [==============================] - 6s 4ms/step - loss: 0.0247 - accuracy: 0.9916 - val_loss: 0.1122 - val_accuracy: 0.9757\n",
            "Epoch 45/50\n",
            "1500/1500 [==============================] - 7s 4ms/step - loss: 0.0226 - accuracy: 0.9923 - val_loss: 0.1157 - val_accuracy: 0.9751\n",
            "Epoch 46/50\n",
            "1500/1500 [==============================] - 6s 4ms/step - loss: 0.0214 - accuracy: 0.9928 - val_loss: 0.1185 - val_accuracy: 0.9757\n",
            "Epoch 47/50\n",
            "1500/1500 [==============================] - 7s 5ms/step - loss: 0.0217 - accuracy: 0.9925 - val_loss: 0.1109 - val_accuracy: 0.9754\n",
            "Epoch 48/50\n",
            "1500/1500 [==============================] - 6s 4ms/step - loss: 0.0223 - accuracy: 0.9920 - val_loss: 0.1121 - val_accuracy: 0.9759\n",
            "Epoch 49/50\n",
            "1500/1500 [==============================] - 7s 4ms/step - loss: 0.0203 - accuracy: 0.9932 - val_loss: 0.1067 - val_accuracy: 0.9776\n",
            "Epoch 50/50\n",
            "1500/1500 [==============================] - 6s 4ms/step - loss: 0.0216 - accuracy: 0.9922 - val_loss: 0.1135 - val_accuracy: 0.9743\n"
          ]
        },
        {
          "output_type": "execute_result",
          "data": {
            "text/plain": [
              "<keras.src.callbacks.History at 0x7be9ab554df0>"
            ]
          },
          "metadata": {},
          "execution_count": 15
        }
      ]
    },
    {
      "cell_type": "code",
      "source": [
        "model_mnist.evaluate(x_test,y_test)"
      ],
      "metadata": {
        "colab": {
          "base_uri": "https://localhost:8080/"
        },
        "id": "SWxOv-fBfiM8",
        "outputId": "2718908c-ef05-49fa-da43-b2aa25af1fd7"
      },
      "execution_count": 16,
      "outputs": [
        {
          "output_type": "stream",
          "name": "stdout",
          "text": [
            "313/313 [==============================] - 1s 2ms/step - loss: 0.1150 - accuracy: 0.9737\n"
          ]
        },
        {
          "output_type": "execute_result",
          "data": {
            "text/plain": [
              "[0.11499298363924026, 0.9736999869346619]"
            ]
          },
          "metadata": {},
          "execution_count": 16
        }
      ]
    },
    {
      "cell_type": "code",
      "source": [
        "from sklearn.metrics import ConfusionMatrixDisplay"
      ],
      "metadata": {
        "id": "AqOzSQliwhaI"
      },
      "execution_count": 17,
      "outputs": []
    },
    {
      "cell_type": "code",
      "source": [],
      "metadata": {
        "colab": {
          "base_uri": "https://localhost:8080/"
        },
        "id": "LqJMa8TS-xOU",
        "outputId": "91187fdd-28c1-4a84-ed4c-999dcc4ab51c"
      },
      "execution_count": 23,
      "outputs": [
        {
          "output_type": "execute_result",
          "data": {
            "text/plain": [
              "(10000, 784)"
            ]
          },
          "metadata": {},
          "execution_count": 23
        }
      ]
    },
    {
      "cell_type": "code",
      "source": [
        "import numpy as np\n",
        "y_pred_prob=model_mnist.predict(x_test)\n",
        "y_pred=y_pred_prob.argmax(axis=1)\n",
        "y_pred"
      ],
      "metadata": {
        "colab": {
          "base_uri": "https://localhost:8080/"
        },
        "id": "tUDaliaC9_P-",
        "outputId": "c765b8ca-86bc-4157-d3bf-9bb1a9c7c29f"
      },
      "execution_count": 24,
      "outputs": [
        {
          "output_type": "stream",
          "name": "stdout",
          "text": [
            "313/313 [==============================] - 1s 2ms/step\n"
          ]
        },
        {
          "output_type": "execute_result",
          "data": {
            "text/plain": [
              "array([7, 2, 1, ..., 4, 5, 6])"
            ]
          },
          "metadata": {},
          "execution_count": 24
        }
      ]
    },
    {
      "cell_type": "code",
      "source": [
        "import matplotlib.pyplot as plt"
      ],
      "metadata": {
        "id": "RjY2eJJo-OD5"
      },
      "execution_count": 4,
      "outputs": []
    },
    {
      "cell_type": "code",
      "source": [
        "ConfusionMatrixDisplay.from_predictions(y_test,y_pred)\n",
        "plt.show()"
      ],
      "metadata": {
        "colab": {
          "base_uri": "https://localhost:8080/",
          "height": 469
        },
        "id": "th0sh694_D_v",
        "outputId": "3f89ddd0-9f5a-4dba-a776-4e78cb99dae1"
      },
      "execution_count": 27,
      "outputs": [
        {
          "output_type": "display_data",
          "data": {
            "text/plain": [
              "<Figure size 640x480 with 2 Axes>"
            ],
            "image/png": "[encoded data removed]"
          },
          "metadata": {}
        }
      ]
    },
    {
      "cell_type": "code",
      "source": [
        "from sklearn.datasets import make_circles"
      ],
      "metadata": {
        "id": "_X8sVCMG_L3z"
      },
      "execution_count": 1,
      "outputs": []
    },
    {
      "cell_type": "code",
      "source": [
        "x,y=make_circles(n_samples=250,noise=0.06,random_state=42)"
      ],
      "metadata": {
        "id": "BX4uNCPABFTj"
      },
      "execution_count": 74,
      "outputs": []
    },
    {
      "cell_type": "code",
      "source": [],
      "metadata": {
        "id": "gZ8IiHYoBKIb"
      },
      "execution_count": 74,
      "outputs": []
    },
    {
      "cell_type": "code",
      "source": [
        "plt.scatter(x[y==0][:,0],x[y==0][:,1],color='r',label='class-0')\n",
        "plt.scatter(x[y==1][:,0],x[y==1][:,1],color='b',label='class-1')\n",
        "plt.legend()\n",
        "plt.show()"
      ],
      "metadata": {
        "colab": {
          "base_uri": "https://localhost:8080/",
          "height": 450
        },
        "id": "AP-Jq-z4Bqcl",
        "outputId": "dcda7518-60f3-4c2f-9efc-b311f9ac5ab2"
      },
      "execution_count": 75,
      "outputs": [
        {
          "output_type": "display_data",
          "data": {
            "text/plain": [
              "<Figure size 640x480 with 1 Axes>"
            ],
            "image/png": "[encoded data removed]"
          },
          "metadata": {}
        }
      ]
    },
    {
      "cell_type": "code",
      "source": [
        "import tensorflow as tf\n",
        "from tensorflow.keras.layers import Dense,BatchNormalization\n",
        "from tensorflow.keras.models import Sequential\n",
        "from tensorflow.keras.callbacks import EarlyStopping"
      ],
      "metadata": {
        "id": "zamsOakJBtAb"
      },
      "execution_count": 81,
      "outputs": []
    },
    {
      "cell_type": "code",
      "source": [
        "tf.random.set_seed(42)\n",
        "model_circles=Sequential()\n",
        "model_circles.add(Dense(50,activation='relu',input_shape=(2,),kernel_initializer='he_normal'))\n",
        "model_circles.add(BatchNormalization())\n",
        "model_circles.add(Dense(10,activation='relu',kernel_initializer='he_normal'))\n",
        "model_circles.add(BatchNormalization())\n",
        "model_circles.add(Dense(1,activation='sigmoid',kernel_initializer='he_normal'))"
      ],
      "metadata": {
        "id": "nl1ofQ1cJxm7"
      },
      "execution_count": 118,
      "outputs": []
    },
    {
      "cell_type": "code",
      "source": [
        "early_stopping=EarlyStopping(patience=10,min_delta=0.01,start_from_epoch=25)\n",
        "model_circles.compile(optimizer='adam',loss='binary_crossentropy',metrics=['accuracy'])\n"
      ],
      "metadata": {
        "id": "uDlziH9ConPK"
      },
      "execution_count": 119,
      "outputs": []
    },
    {
      "cell_type": "code",
      "source": [
        "from sklearn.model_selection import train_test_split"
      ],
      "metadata": {
        "id": "BZj_XhMlqBsf"
      },
      "execution_count": 95,
      "outputs": []
    },
    {
      "cell_type": "code",
      "source": [
        "x_train,x_test,y_train,y_test=train_test_split(x,y,test_size=0.2,random_state=42)"
      ],
      "metadata": {
        "id": "15CYQNgbqNN0"
      },
      "execution_count": 96,
      "outputs": []
    },
    {
      "cell_type": "code",
      "source": [
        "x_train.shape"
      ],
      "metadata": {
        "colab": {
          "base_uri": "https://localhost:8080/"
        },
        "id": "ZYLJHieSqZVb",
        "outputId": "cbb0c6c2-f05f-4c7d-9309-17f7b4580567"
      },
      "execution_count": 97,
      "outputs": [
        {
          "output_type": "execute_result",
          "data": {
            "text/plain": [
              "(200, 2)"
            ]
          },
          "metadata": {},
          "execution_count": 97
        }
      ]
    },
    {
      "cell_type": "code",
      "source": [
        "model_circles.fit(x_train,y_train,epochs=100,callbacks=[early_stopping],validation_split=0.15)"
      ],
      "metadata": {
        "colab": {
          "base_uri": "https://localhost:8080/"
        },
        "id": "_3hckRbVqbN4",
        "outputId": "e246de74-9570-4b6b-f087-9834bbaeded0"
      },
      "execution_count": 120,
      "outputs": [
        {
          "output_type": "stream",
          "name": "stdout",
          "text": [
            "Epoch 1/100\n",
            "6/6 [==============================] - 2s 81ms/step - loss: 0.6862 - accuracy: 0.5941 - val_loss: 0.7082 - val_accuracy: 0.5333\n",
            "Epoch 2/100\n",
            "6/6 [==============================] - 0s 18ms/step - loss: 0.6589 - accuracy: 0.6118 - val_loss: 0.7029 - val_accuracy: 0.5333\n",
            "Epoch 3/100\n",
            "6/6 [==============================] - 0s 16ms/step - loss: 0.6327 - accuracy: 0.6647 - val_loss: 0.6960 - val_accuracy: 0.5000\n",
            "Epoch 4/100\n",
            "6/6 [==============================] - 0s 18ms/step - loss: 0.6278 - accuracy: 0.6412 - val_loss: 0.6916 - val_accuracy: 0.5000\n",
            "Epoch 5/100\n",
            "6/6 [==============================] - 0s 13ms/step - loss: 0.5906 - accuracy: 0.7529 - val_loss: 0.6882 - val_accuracy: 0.5333\n",
            "Epoch 6/100\n",
            "6/6 [==============================] - 0s 17ms/step - loss: 0.5738 - accuracy: 0.7588 - val_loss: 0.6843 - val_accuracy: 0.5333\n",
            "Epoch 7/100\n",
            "6/6 [==============================] - 0s 13ms/step - loss: 0.5683 - accuracy: 0.7471 - val_loss: 0.6782 - val_accuracy: 0.5333\n",
            "Epoch 8/100\n",
            "6/6 [==============================] - 0s 17ms/step - loss: 0.5581 - accuracy: 0.8000 - val_loss: 0.6742 - val_accuracy: 0.5333\n",
            "Epoch 9/100\n",
            "6/6 [==============================] - 0s 13ms/step - loss: 0.5392 - accuracy: 0.8000 - val_loss: 0.6706 - val_accuracy: 0.5333\n",
            "Epoch 10/100\n",
            "6/6 [==============================] - 0s 17ms/step - loss: 0.5373 - accuracy: 0.7824 - val_loss: 0.6648 - val_accuracy: 0.5333\n",
            "Epoch 11/100\n",
            "6/6 [==============================] - 0s 17ms/step - loss: 0.5154 - accuracy: 0.8412 - val_loss: 0.6581 - val_accuracy: 0.5333\n",
            "Epoch 12/100\n",
            "6/6 [==============================] - 0s 15ms/step - loss: 0.5247 - accuracy: 0.8000 - val_loss: 0.6540 - val_accuracy: 0.5667\n",
            "Epoch 13/100\n",
            "6/6 [==============================] - 0s 18ms/step - loss: 0.4742 - accuracy: 0.8824 - val_loss: 0.6463 - val_accuracy: 0.5667\n",
            "Epoch 14/100\n",
            "6/6 [==============================] - 0s 18ms/step - loss: 0.4723 - accuracy: 0.8588 - val_loss: 0.6370 - val_accuracy: 0.5667\n",
            "Epoch 15/100\n",
            "6/6 [==============================] - 0s 17ms/step - loss: 0.4609 - accuracy: 0.8471 - val_loss: 0.6290 - val_accuracy: 0.5667\n",
            "Epoch 16/100\n",
            "6/6 [==============================] - 0s 12ms/step - loss: 0.4612 - accuracy: 0.8118 - val_loss: 0.6186 - val_accuracy: 0.5667\n",
            "Epoch 17/100\n",
            "6/6 [==============================] - 0s 12ms/step - loss: 0.4404 - accuracy: 0.8353 - val_loss: 0.6095 - val_accuracy: 0.6000\n",
            "Epoch 18/100\n",
            "6/6 [==============================] - 0s 8ms/step - loss: 0.4269 - accuracy: 0.8471 - val_loss: 0.5996 - val_accuracy: 0.6000\n",
            "Epoch 19/100\n",
            "6/6 [==============================] - 0s 12ms/step - loss: 0.4506 - accuracy: 0.8235 - val_loss: 0.5908 - val_accuracy: 0.6667\n",
            "Epoch 20/100\n",
            "6/6 [==============================] - 0s 8ms/step - loss: 0.4403 - accuracy: 0.8647 - val_loss: 0.5782 - val_accuracy: 0.7000\n",
            "Epoch 21/100\n",
            "6/6 [==============================] - 0s 9ms/step - loss: 0.4168 - accuracy: 0.8529 - val_loss: 0.5728 - val_accuracy: 0.7000\n",
            "Epoch 22/100\n",
            "6/6 [==============================] - 0s 12ms/step - loss: 0.4072 - accuracy: 0.8588 - val_loss: 0.5694 - val_accuracy: 0.7000\n",
            "Epoch 23/100\n",
            "6/6 [==============================] - 0s 9ms/step - loss: 0.4066 - accuracy: 0.8588 - val_loss: 0.5605 - val_accuracy: 0.7333\n",
            "Epoch 24/100\n",
            "6/6 [==============================] - 0s 9ms/step - loss: 0.3928 - accuracy: 0.8765 - val_loss: 0.5522 - val_accuracy: 0.7333\n",
            "Epoch 25/100\n",
            "6/6 [==============================] - 0s 9ms/step - loss: 0.4056 - accuracy: 0.8588 - val_loss: 0.5441 - val_accuracy: 0.7333\n",
            "Epoch 26/100\n",
            "6/6 [==============================] - 0s 9ms/step - loss: 0.3633 - accuracy: 0.8765 - val_loss: 0.5427 - val_accuracy: 0.7333\n",
            "Epoch 27/100\n",
            "6/6 [==============================] - 0s 9ms/step - loss: 0.3972 - accuracy: 0.8588 - val_loss: 0.5417 - val_accuracy: 0.7333\n",
            "Epoch 28/100\n",
            "6/6 [==============================] - 0s 15ms/step - loss: 0.3431 - accuracy: 0.9235 - val_loss: 0.5332 - val_accuracy: 0.7667\n",
            "Epoch 29/100\n",
            "6/6 [==============================] - 0s 12ms/step - loss: 0.3697 - accuracy: 0.8882 - val_loss: 0.5217 - val_accuracy: 0.8333\n",
            "Epoch 30/100\n",
            "6/6 [==============================] - 0s 9ms/step - loss: 0.3675 - accuracy: 0.8706 - val_loss: 0.5152 - val_accuracy: 0.8333\n",
            "Epoch 31/100\n",
            "6/6 [==============================] - 0s 12ms/step - loss: 0.3219 - accuracy: 0.9176 - val_loss: 0.5063 - val_accuracy: 0.8333\n",
            "Epoch 32/100\n",
            "6/6 [==============================] - 0s 13ms/step - loss: 0.3722 - accuracy: 0.8412 - val_loss: 0.4995 - val_accuracy: 0.8667\n",
            "Epoch 33/100\n",
            "6/6 [==============================] - 0s 12ms/step - loss: 0.3535 - accuracy: 0.8647 - val_loss: 0.4969 - val_accuracy: 0.8000\n",
            "Epoch 34/100\n",
            "6/6 [==============================] - 0s 8ms/step - loss: 0.3760 - accuracy: 0.8471 - val_loss: 0.4861 - val_accuracy: 0.8000\n",
            "Epoch 35/100\n",
            "6/6 [==============================] - 0s 12ms/step - loss: 0.3307 - accuracy: 0.8588 - val_loss: 0.4817 - val_accuracy: 0.8333\n",
            "Epoch 36/100\n",
            "6/6 [==============================] - 0s 8ms/step - loss: 0.3030 - accuracy: 0.8882 - val_loss: 0.4732 - val_accuracy: 0.8000\n",
            "Epoch 37/100\n",
            "6/6 [==============================] - 0s 10ms/step - loss: 0.3117 - accuracy: 0.8882 - val_loss: 0.4636 - val_accuracy: 0.8667\n",
            "Epoch 38/100\n",
            "6/6 [==============================] - 0s 9ms/step - loss: 0.3017 - accuracy: 0.9235 - val_loss: 0.4490 - val_accuracy: 0.8333\n",
            "Epoch 39/100\n",
            "6/6 [==============================] - 0s 12ms/step - loss: 0.2976 - accuracy: 0.8588 - val_loss: 0.4452 - val_accuracy: 0.8000\n",
            "Epoch 40/100\n",
            "6/6 [==============================] - 0s 13ms/step - loss: 0.3156 - accuracy: 0.9118 - val_loss: 0.4318 - val_accuracy: 0.8667\n",
            "Epoch 41/100\n",
            "6/6 [==============================] - 0s 9ms/step - loss: 0.2794 - accuracy: 0.9118 - val_loss: 0.4176 - val_accuracy: 0.8667\n",
            "Epoch 42/100\n",
            "6/6 [==============================] - 0s 9ms/step - loss: 0.3371 - accuracy: 0.8647 - val_loss: 0.4192 - val_accuracy: 0.9000\n",
            "Epoch 43/100\n",
            "6/6 [==============================] - 0s 13ms/step - loss: 0.3950 - accuracy: 0.8000 - val_loss: 0.4134 - val_accuracy: 0.8333\n",
            "Epoch 44/100\n",
            "6/6 [==============================] - 0s 9ms/step - loss: 0.2602 - accuracy: 0.9412 - val_loss: 0.4073 - val_accuracy: 0.8333\n",
            "Epoch 45/100\n",
            "6/6 [==============================] - 0s 12ms/step - loss: 0.3117 - accuracy: 0.8765 - val_loss: 0.3995 - val_accuracy: 0.8333\n",
            "Epoch 46/100\n",
            "6/6 [==============================] - 0s 13ms/step - loss: 0.3509 - accuracy: 0.8647 - val_loss: 0.3922 - val_accuracy: 0.8333\n",
            "Epoch 47/100\n",
            "6/6 [==============================] - 0s 14ms/step - loss: 0.2622 - accuracy: 0.9235 - val_loss: 0.3885 - val_accuracy: 0.8333\n",
            "Epoch 48/100\n",
            "6/6 [==============================] - 0s 10ms/step - loss: 0.2909 - accuracy: 0.9118 - val_loss: 0.3823 - val_accuracy: 0.8667\n",
            "Epoch 49/100\n",
            "6/6 [==============================] - 0s 9ms/step - loss: 0.2835 - accuracy: 0.8824 - val_loss: 0.3704 - val_accuracy: 0.8667\n",
            "Epoch 50/100\n",
            "6/6 [==============================] - 0s 12ms/step - loss: 0.3096 - accuracy: 0.8706 - val_loss: 0.3647 - val_accuracy: 0.8667\n",
            "Epoch 51/100\n",
            "6/6 [==============================] - 0s 9ms/step - loss: 0.2827 - accuracy: 0.9059 - val_loss: 0.3564 - val_accuracy: 0.8667\n",
            "Epoch 52/100\n",
            "6/6 [==============================] - 0s 9ms/step - loss: 0.2722 - accuracy: 0.8765 - val_loss: 0.3482 - val_accuracy: 0.9000\n",
            "Epoch 53/100\n",
            "6/6 [==============================] - 0s 9ms/step - loss: 0.3558 - accuracy: 0.8529 - val_loss: 0.3426 - val_accuracy: 0.9000\n",
            "Epoch 54/100\n",
            "6/6 [==============================] - 0s 12ms/step - loss: 0.2710 - accuracy: 0.9176 - val_loss: 0.3366 - val_accuracy: 0.9000\n",
            "Epoch 55/100\n",
            "6/6 [==============================] - 0s 14ms/step - loss: 0.3276 - accuracy: 0.9000 - val_loss: 0.3199 - val_accuracy: 0.9000\n",
            "Epoch 56/100\n",
            "6/6 [==============================] - 0s 12ms/step - loss: 0.2990 - accuracy: 0.8706 - val_loss: 0.3167 - val_accuracy: 0.8667\n",
            "Epoch 57/100\n",
            "6/6 [==============================] - 0s 9ms/step - loss: 0.3102 - accuracy: 0.8824 - val_loss: 0.3107 - val_accuracy: 0.9000\n",
            "Epoch 58/100\n",
            "6/6 [==============================] - 0s 10ms/step - loss: 0.2498 - accuracy: 0.9000 - val_loss: 0.3039 - val_accuracy: 0.9000\n",
            "Epoch 59/100\n",
            "6/6 [==============================] - 0s 10ms/step - loss: 0.2533 - accuracy: 0.8941 - val_loss: 0.2994 - val_accuracy: 0.9000\n",
            "Epoch 60/100\n",
            "6/6 [==============================] - 0s 9ms/step - loss: 0.2479 - accuracy: 0.9412 - val_loss: 0.2942 - val_accuracy: 0.9000\n",
            "Epoch 61/100\n",
            "6/6 [==============================] - 0s 9ms/step - loss: 0.2550 - accuracy: 0.8824 - val_loss: 0.2968 - val_accuracy: 0.8667\n",
            "Epoch 62/100\n",
            "6/6 [==============================] - 0s 9ms/step - loss: 0.2664 - accuracy: 0.9235 - val_loss: 0.2957 - val_accuracy: 0.8667\n",
            "Epoch 63/100\n",
            "6/6 [==============================] - 0s 13ms/step - loss: 0.2512 - accuracy: 0.9059 - val_loss: 0.2896 - val_accuracy: 0.9000\n",
            "Epoch 64/100\n",
            "6/6 [==============================] - 0s 9ms/step - loss: 0.2160 - accuracy: 0.9235 - val_loss: 0.2902 - val_accuracy: 0.9000\n",
            "Epoch 65/100\n",
            "6/6 [==============================] - 0s 9ms/step - loss: 0.2985 - accuracy: 0.8941 - val_loss: 0.2898 - val_accuracy: 0.8667\n",
            "Epoch 66/100\n",
            "6/6 [==============================] - 0s 9ms/step - loss: 0.2572 - accuracy: 0.9059 - val_loss: 0.2831 - val_accuracy: 0.9333\n",
            "Epoch 67/100\n",
            "6/6 [==============================] - 0s 9ms/step - loss: 0.2619 - accuracy: 0.8882 - val_loss: 0.2786 - val_accuracy: 0.9333\n",
            "Epoch 68/100\n",
            "6/6 [==============================] - 0s 13ms/step - loss: 0.2774 - accuracy: 0.8824 - val_loss: 0.2747 - val_accuracy: 0.8667\n",
            "Epoch 69/100\n",
            "6/6 [==============================] - 0s 10ms/step - loss: 0.2391 - accuracy: 0.9118 - val_loss: 0.2739 - val_accuracy: 0.8667\n",
            "Epoch 70/100\n",
            "6/6 [==============================] - 0s 9ms/step - loss: 0.2419 - accuracy: 0.9294 - val_loss: 0.2667 - val_accuracy: 0.8667\n",
            "Epoch 71/100\n",
            "6/6 [==============================] - 0s 12ms/step - loss: 0.2640 - accuracy: 0.9059 - val_loss: 0.2677 - val_accuracy: 0.9000\n",
            "Epoch 72/100\n",
            "6/6 [==============================] - 0s 9ms/step - loss: 0.3692 - accuracy: 0.8294 - val_loss: 0.2728 - val_accuracy: 0.9000\n",
            "Epoch 73/100\n",
            "6/6 [==============================] - 0s 12ms/step - loss: 0.3022 - accuracy: 0.8471 - val_loss: 0.2647 - val_accuracy: 0.9000\n",
            "Epoch 74/100\n",
            "6/6 [==============================] - 0s 9ms/step - loss: 0.2195 - accuracy: 0.9353 - val_loss: 0.2603 - val_accuracy: 0.9000\n",
            "Epoch 75/100\n",
            "6/6 [==============================] - 0s 11ms/step - loss: 0.2813 - accuracy: 0.8824 - val_loss: 0.2625 - val_accuracy: 0.9000\n",
            "Epoch 76/100\n",
            "6/6 [==============================] - 0s 12ms/step - loss: 0.2151 - accuracy: 0.9353 - val_loss: 0.2790 - val_accuracy: 0.9000\n",
            "Epoch 77/100\n",
            "6/6 [==============================] - 0s 10ms/step - loss: 0.2550 - accuracy: 0.9118 - val_loss: 0.2849 - val_accuracy: 0.9000\n",
            "Epoch 78/100\n",
            "6/6 [==============================] - 0s 13ms/step - loss: 0.2657 - accuracy: 0.9000 - val_loss: 0.2731 - val_accuracy: 0.9000\n",
            "Epoch 79/100\n",
            "6/6 [==============================] - 0s 10ms/step - loss: 0.2198 - accuracy: 0.9235 - val_loss: 0.2562 - val_accuracy: 0.9000\n",
            "Epoch 80/100\n",
            "6/6 [==============================] - 0s 9ms/step - loss: 0.2288 - accuracy: 0.9353 - val_loss: 0.2473 - val_accuracy: 0.9000\n",
            "Epoch 81/100\n",
            "6/6 [==============================] - 0s 9ms/step - loss: 0.2479 - accuracy: 0.8765 - val_loss: 0.2478 - val_accuracy: 0.9000\n",
            "Epoch 82/100\n",
            "6/6 [==============================] - 0s 12ms/step - loss: 0.2171 - accuracy: 0.9118 - val_loss: 0.2571 - val_accuracy: 0.8667\n",
            "Epoch 83/100\n",
            "6/6 [==============================] - 0s 13ms/step - loss: 0.2594 - accuracy: 0.8882 - val_loss: 0.2441 - val_accuracy: 0.9000\n",
            "Epoch 84/100\n",
            "6/6 [==============================] - 0s 12ms/step - loss: 0.2619 - accuracy: 0.9059 - val_loss: 0.2419 - val_accuracy: 0.9000\n",
            "Epoch 85/100\n",
            "6/6 [==============================] - 0s 12ms/step - loss: 0.2689 - accuracy: 0.8588 - val_loss: 0.2730 - val_accuracy: 0.8667\n",
            "Epoch 86/100\n",
            "6/6 [==============================] - 0s 10ms/step - loss: 0.2997 - accuracy: 0.8647 - val_loss: 0.2784 - val_accuracy: 0.8667\n",
            "Epoch 87/100\n",
            "6/6 [==============================] - 0s 12ms/step - loss: 0.2799 - accuracy: 0.8882 - val_loss: 0.2576 - val_accuracy: 0.9333\n",
            "Epoch 88/100\n",
            "6/6 [==============================] - 0s 12ms/step - loss: 0.3712 - accuracy: 0.8412 - val_loss: 0.2643 - val_accuracy: 0.9333\n",
            "Epoch 89/100\n",
            "6/6 [==============================] - 0s 9ms/step - loss: 0.2542 - accuracy: 0.8882 - val_loss: 0.2529 - val_accuracy: 0.9333\n",
            "Epoch 90/100\n",
            "6/6 [==============================] - 0s 15ms/step - loss: 0.2659 - accuracy: 0.8647 - val_loss: 0.2485 - val_accuracy: 0.9333\n",
            "Epoch 91/100\n",
            "6/6 [==============================] - 0s 9ms/step - loss: 0.2332 - accuracy: 0.9059 - val_loss: 0.2435 - val_accuracy: 0.9333\n",
            "Epoch 92/100\n",
            "6/6 [==============================] - 0s 9ms/step - loss: 0.2468 - accuracy: 0.8882 - val_loss: 0.2538 - val_accuracy: 0.8667\n",
            "Epoch 93/100\n",
            "6/6 [==============================] - 0s 12ms/step - loss: 0.2304 - accuracy: 0.9059 - val_loss: 0.2399 - val_accuracy: 0.9333\n"
          ]
        },
        {
          "output_type": "execute_result",
          "data": {
            "text/plain": [
              "<keras.src.callbacks.History at 0x78a0a48e5900>"
            ]
          },
          "metadata": {},
          "execution_count": 120
        }
      ]
    },
    {
      "cell_type": "code",
      "source": [],
      "metadata": {
        "id": "mYBnGFORq26S"
      },
      "execution_count": null,
      "outputs": []
    }
  ]
}